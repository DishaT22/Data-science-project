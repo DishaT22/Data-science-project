{
  "nbformat": 4,
  "nbformat_minor": 0,
  "metadata": {
    "colab": {
      "provenance": []
    },
    "kernelspec": {
      "name": "python3",
      "display_name": "Python 3"
    },
    "language_info": {
      "name": "python"
    }
  },
  "cells": [
    {
      "cell_type": "code",
      "execution_count": null,
      "metadata": {
        "colab": {
          "base_uri": "https://localhost:8080/"
        },
        "id": "NGKlRuDIUgGJ",
        "outputId": "2f794e18-60a3-4257-ed59-4e854ecda0ba"
      },
      "outputs": [
        {
          "output_type": "stream",
          "name": "stdout",
          "text": [
            "Do you want to encrypt or decrypt?\n",
            "e/d:d\n",
            "decryption\n",
            "\n",
            "enter the key(1through 26): 3\n",
            "enter the text to be decryted: khoorldpglvkd\n",
            "DECRPYPTED_TEXT: helloiamdisha\n"
          ]
        }
      ],
      "source": [
        "letters= 'abcdefghijklmnopqrstuvfwxyz'\n",
        "num_letters= len(letters)\n",
        "def encrypt_decrypt(text, mode, key):\n",
        "    result = ''\n",
        "    if mode == 'd':\n",
        "        key= -key\n",
        "    for letter in text:\n",
        "        letter = letter.lower()\n",
        "        if not letter == ' ':\n",
        "            index = letters.find(letter)\n",
        "            if index == -1:\n",
        "                result += letter\n",
        "            else:\n",
        "                new_index = index+key\n",
        "                if new_index >= num_letters:\n",
        "                    new_index -= num_letters\n",
        "                elif new_index<0:\n",
        "                    new_index += num_letters\n",
        "                result += letters[new_index]\n",
        "    return result\n",
        "\n",
        "print('Do you want to encrypt or decrypt?')\n",
        "user_input = input('e/d:').lower()\n",
        "\n",
        "if user_input == 'e':\n",
        "    print ('encryption')\n",
        "    print()\n",
        "    key = int(input('enter the key(1through 26): '))\n",
        "    text = input('enter the text to be encryted: ')\n",
        "    ciphertext = encrypt_decrypt(text, user_input, key)\n",
        "    print(f'CIPHERTEXT: {ciphertext}')\n",
        "\n",
        "elif user_input== 'd':\n",
        "    print ('decryption')\n",
        "    print()\n",
        "    key = int(input('enter the key(1through 26): '))\n",
        "    text = input('enter the text to be decryted: ')\n",
        "    decrypted_text = encrypt_decrypt(text, user_input, key)\n",
        "    print(f'DECRPYPTED_TEXT: {decrypted_text}')"
      ]
    }
  ]
}