{
  "cells": [
    {
      "cell_type": "code",
      "execution_count": null,
      "id": "0056bef9-355d-4d10-9419-a32b9910c5b9",
      "metadata": {
        "id": "0056bef9-355d-4d10-9419-a32b9910c5b9"
      },
      "outputs": [],
      "source": [
        "import numpy as np\n",
        "import pandas as pd\n",
        "import seaborn as sns\n",
        "import matplotlib.pyplot as plt\n",
        "%matplotlib inline"
      ]
    },
    {
      "cell_type": "markdown",
      "id": "36b2e0b6-dbec-4314-b31e-4726f8ee69c0",
      "metadata": {
        "id": "36b2e0b6-dbec-4314-b31e-4726f8ee69c0"
      },
      "source": [
        "IMPORT THE DATASET USING PANDAS"
      ]
    },
    {
      "cell_type": "code",
      "execution_count": null,
      "id": "9177eb78-7177-461b-a5c5-8d6abf2037fe",
      "metadata": {
        "id": "9177eb78-7177-461b-a5c5-8d6abf2037fe"
      },
      "outputs": [],
      "source": [
        "df = pd.read_csv(\"https://raw.githubusercontent.com/SR1608/Datasets/main/covid-data.csv\", sep =\",\")"
      ]
    },
    {
      "cell_type": "code",
      "execution_count": null,
      "id": "edfa6a22-81d3-4075-ad6e-50a995d1dd53",
      "metadata": {
        "id": "edfa6a22-81d3-4075-ad6e-50a995d1dd53"
      },
      "outputs": [],
      "source": [
        "df.head()"
      ]
    },
    {
      "cell_type": "code",
      "execution_count": null,
      "id": "ed36ed29-3487-41b6-bdef-deb5490448bc",
      "metadata": {
        "id": "ed36ed29-3487-41b6-bdef-deb5490448bc"
      },
      "outputs": [],
      "source": [
        "df.tail()"
      ]
    },
    {
      "cell_type": "code",
      "execution_count": null,
      "id": "ada75e28-d7c7-4f1b-b89a-17cab7bc46a2",
      "metadata": {
        "id": "ada75e28-d7c7-4f1b-b89a-17cab7bc46a2"
      },
      "outputs": [],
      "source": [
        "df"
      ]
    },
    {
      "cell_type": "markdown",
      "id": "4e0afa78-1699-41ad-8bd3-99a3ec3776ea",
      "metadata": {
        "id": "4e0afa78-1699-41ad-8bd3-99a3ec3776ea"
      },
      "source": [
        "HIGH LEVEL DATA UNDERSTANDING"
      ]
    },
    {
      "cell_type": "code",
      "execution_count": null,
      "id": "2bdc40c4-fa7e-406b-ab8e-e81a2f253c45",
      "metadata": {
        "id": "2bdc40c4-fa7e-406b-ab8e-e81a2f253c45"
      },
      "outputs": [],
      "source": [
        "df.shape"
      ]
    },
    {
      "cell_type": "code",
      "execution_count": null,
      "id": "4588df68-afe4-4d73-bab7-7e12f72c4d9c",
      "metadata": {
        "id": "4588df68-afe4-4d73-bab7-7e12f72c4d9c"
      },
      "outputs": [],
      "source": [
        "df.dtypes"
      ]
    },
    {
      "cell_type": "code",
      "execution_count": null,
      "id": "8cd7956f-5500-4567-89ac-7cd2cb3b0246",
      "metadata": {
        "id": "8cd7956f-5500-4567-89ac-7cd2cb3b0246"
      },
      "outputs": [],
      "source": [
        "df.info()"
      ]
    },
    {
      "cell_type": "code",
      "execution_count": null,
      "id": "9b693afb-836d-4ca4-8fc4-618b5b08e00f",
      "metadata": {
        "id": "9b693afb-836d-4ca4-8fc4-618b5b08e00f"
      },
      "outputs": [],
      "source": [
        "pd.set_option('display.max_columns', None)\n",
        "df.describe(include=\"all\").round(2)"
      ]
    },
    {
      "cell_type": "markdown",
      "id": "447ae798-3c54-47a3-a470-74f468cf84e0",
      "metadata": {
        "id": "447ae798-3c54-47a3-a470-74f468cf84e0"
      },
      "source": [
        "LOW LEVEL DATA UNDERSTANDING"
      ]
    },
    {
      "cell_type": "code",
      "execution_count": null,
      "id": "338cfbc1-81bc-49e5-9d6c-1e31ae645689",
      "metadata": {
        "id": "338cfbc1-81bc-49e5-9d6c-1e31ae645689"
      },
      "outputs": [],
      "source": [
        "df['location'].nunique()"
      ]
    },
    {
      "cell_type": "code",
      "execution_count": null,
      "id": "5c3db4a4-b791-452e-b760-815d7298e26d",
      "metadata": {
        "id": "5c3db4a4-b791-452e-b760-815d7298e26d"
      },
      "outputs": [],
      "source": [
        "df['continent'].value_counts()"
      ]
    },
    {
      "cell_type": "code",
      "execution_count": null,
      "id": "47a04b64-922b-4bc4-a840-29ab2f414df1",
      "metadata": {
        "id": "47a04b64-922b-4bc4-a840-29ab2f414df1"
      },
      "outputs": [],
      "source": [
        "df['total_cases'].max()"
      ]
    },
    {
      "cell_type": "code",
      "execution_count": null,
      "id": "fa4b2e74-0680-40ad-b466-9eae61398986",
      "metadata": {
        "id": "fa4b2e74-0680-40ad-b466-9eae61398986"
      },
      "outputs": [],
      "source": [
        "df['total_cases'].mean()"
      ]
    },
    {
      "cell_type": "code",
      "execution_count": null,
      "id": "9864d5df-df66-439e-a0a4-f3285c93b88f",
      "metadata": {
        "id": "9864d5df-df66-439e-a0a4-f3285c93b88f"
      },
      "outputs": [],
      "source": [
        "df['total_cases'].min()"
      ]
    },
    {
      "cell_type": "code",
      "execution_count": null,
      "id": "83dd1956-2906-4fe5-aa04-46acaf01da97",
      "metadata": {
        "id": "83dd1956-2906-4fe5-aa04-46acaf01da97"
      },
      "outputs": [],
      "source": [
        "df['total_deaths'].describe().round(2)"
      ]
    },
    {
      "cell_type": "code",
      "execution_count": null,
      "id": "cbdb6d5d-f2d7-42e7-9ae8-7e9fc853ce3b",
      "metadata": {
        "id": "cbdb6d5d-f2d7-42e7-9ae8-7e9fc853ce3b"
      },
      "outputs": [],
      "source": [
        "df.groupby(\"continent\").agg({\"human_development_index\":\"max\"}).head(1)"
      ]
    },
    {
      "cell_type": "code",
      "execution_count": null,
      "id": "a9794607-a97f-4ecc-abef-d0af6498fe4b",
      "metadata": {
        "id": "a9794607-a97f-4ecc-abef-d0af6498fe4b"
      },
      "outputs": [],
      "source": [
        "df.groupby(\"continent\").agg({\"gdp_per_capita\":\"min\"}).head(1)"
      ]
    },
    {
      "cell_type": "markdown",
      "id": "b0e551ad-26dc-43e1-b01a-1ad51b86d059",
      "metadata": {
        "id": "b0e551ad-26dc-43e1-b01a-1ad51b86d059"
      },
      "source": [
        "FILTER THE DTATAFRAME WITH ONLY THIS COLUMNS:\n",
        "[CONTINENT, LOCATION, DATE, TOTAL_CASES, TOTAL_DEATHS, GDP_PER_CAPITA]"
      ]
    },
    {
      "cell_type": "code",
      "execution_count": null,
      "id": "456bec18-60ce-4e49-b47b-cbd4b0091406",
      "metadata": {
        "id": "456bec18-60ce-4e49-b47b-cbd4b0091406"
      },
      "outputs": [],
      "source": [
        "df=df[['continent', 'location', 'date', 'total_cases', 'total_deaths', 'gdp_per_capita', 'human_development_index']]\n",
        "df"
      ]
    },
    {
      "cell_type": "markdown",
      "id": "841cc538-ed52-4c7b-bf9b-873ae2345632",
      "metadata": {
        "id": "841cc538-ed52-4c7b-bf9b-873ae2345632"
      },
      "source": [
        "DATA CLEANING:\n"
      ]
    },
    {
      "cell_type": "code",
      "execution_count": null,
      "id": "c5aef82a-8d12-43e8-b08a-b3d394cb4f15",
      "metadata": {
        "id": "c5aef82a-8d12-43e8-b08a-b3d394cb4f15"
      },
      "outputs": [],
      "source": [
        "df"
      ]
    },
    {
      "cell_type": "code",
      "execution_count": null,
      "id": "da8889fd-2fa3-4cad-8a45-4836abbc03e5",
      "metadata": {
        "id": "da8889fd-2fa3-4cad-8a45-4836abbc03e5"
      },
      "outputs": [],
      "source": [
        "df.duplicated().sum()"
      ]
    },
    {
      "cell_type": "code",
      "execution_count": null,
      "id": "451216bc-c08f-4408-9350-af38b9842074",
      "metadata": {
        "id": "451216bc-c08f-4408-9350-af38b9842074"
      },
      "outputs": [],
      "source": [
        "df.drop_duplicates()"
      ]
    },
    {
      "cell_type": "code",
      "execution_count": null,
      "id": "76b25f70-0072-4d54-9e37-315540b92dd2",
      "metadata": {
        "id": "76b25f70-0072-4d54-9e37-315540b92dd2"
      },
      "outputs": [],
      "source": [
        "df.isnull().sum()"
      ]
    },
    {
      "cell_type": "code",
      "execution_count": null,
      "id": "742c887d-d9cd-45b1-b604-acde7d27de50",
      "metadata": {
        "id": "742c887d-d9cd-45b1-b604-acde7d27de50"
      },
      "outputs": [],
      "source": [
        "df.dropna(subset=[\"continent\"])"
      ]
    },
    {
      "cell_type": "code",
      "execution_count": null,
      "id": "284751ab-e46f-420e-bd66-a179674dc17d",
      "metadata": {
        "id": "284751ab-e46f-420e-bd66-a179674dc17d"
      },
      "outputs": [],
      "source": [
        "df=df.fillna(0)"
      ]
    },
    {
      "cell_type": "code",
      "execution_count": null,
      "id": "3d059aea-9d12-4895-a504-1652f740c979",
      "metadata": {
        "id": "3d059aea-9d12-4895-a504-1652f740c979"
      },
      "outputs": [],
      "source": [
        "df.isnull().sum()"
      ]
    },
    {
      "cell_type": "markdown",
      "id": "9e37512f-a009-43b0-96df-5ecf9f83d4c9",
      "metadata": {
        "id": "9e37512f-a009-43b0-96df-5ecf9f83d4c9"
      },
      "source": [
        "DATE TIME AND FORMAT:"
      ]
    },
    {
      "cell_type": "code",
      "execution_count": null,
      "id": "e93d33fb-00e1-421b-8d1c-8b019dc6fe8e",
      "metadata": {
        "id": "e93d33fb-00e1-421b-8d1c-8b019dc6fe8e"
      },
      "outputs": [],
      "source": [
        "df['date']= pd.to_datetime(df['date'])"
      ]
    },
    {
      "cell_type": "code",
      "execution_count": null,
      "id": "3a40280d-3ef2-4d4a-8b3b-79ebf7aafc19",
      "metadata": {
        "id": "3a40280d-3ef2-4d4a-8b3b-79ebf7aafc19"
      },
      "outputs": [],
      "source": [
        "df.dtypes"
      ]
    },
    {
      "cell_type": "code",
      "execution_count": null,
      "id": "dbff5a84-d78d-4f3a-9fe9-78927864c303",
      "metadata": {
        "id": "dbff5a84-d78d-4f3a-9fe9-78927864c303"
      },
      "outputs": [],
      "source": [
        "df['month'] = pd.DatetimeIndex(df['date']).month"
      ]
    },
    {
      "cell_type": "code",
      "execution_count": null,
      "id": "3cf760a1-fda0-4f59-a0b9-08065c73e9a6",
      "metadata": {
        "id": "3cf760a1-fda0-4f59-a0b9-08065c73e9a6"
      },
      "outputs": [],
      "source": [
        "df"
      ]
    },
    {
      "cell_type": "markdown",
      "id": "e2c4700c-bfcc-4205-8f99-af4c298b0069",
      "metadata": {
        "id": "e2c4700c-bfcc-4205-8f99-af4c298b0069"
      },
      "source": [
        "DATA AGGREGATION"
      ]
    },
    {
      "cell_type": "code",
      "execution_count": null,
      "id": "dd46cf04-a6f9-4659-876d-9b13b06504d6",
      "metadata": {
        "id": "dd46cf04-a6f9-4659-876d-9b13b06504d6"
      },
      "outputs": [],
      "source": [
        "df.groupby('continent').max().reset_index()"
      ]
    },
    {
      "cell_type": "code",
      "execution_count": null,
      "id": "4589bc48-b2b2-463b-b43c-411906bbe901",
      "metadata": {
        "id": "4589bc48-b2b2-463b-b43c-411906bbe901"
      },
      "outputs": [],
      "source": [
        "df_groupby = df.groupby('continent').max().reset_index()\n",
        "df_groupby"
      ]
    },
    {
      "cell_type": "markdown",
      "id": "5280941d-59ae-4e29-9595-442aa310812b",
      "metadata": {
        "id": "5280941d-59ae-4e29-9595-442aa310812b"
      },
      "source": [
        "FEATURE ENGINEERING"
      ]
    },
    {
      "cell_type": "code",
      "execution_count": null,
      "id": "e51a1112-59e6-44ff-8be8-20f4c47c3d6f",
      "metadata": {
        "id": "e51a1112-59e6-44ff-8be8-20f4c47c3d6f"
      },
      "outputs": [],
      "source": [
        "df_groupby[\"total_deaths_to_total_cases\"]=df_groupby[\"total_deaths\"]/df_groupby[\"total_cases\"]"
      ]
    },
    {
      "cell_type": "code",
      "execution_count": null,
      "id": "d4bf7f05-9347-47e5-8d34-9b30ac4da1f1",
      "metadata": {
        "id": "d4bf7f05-9347-47e5-8d34-9b30ac4da1f1"
      },
      "outputs": [],
      "source": [
        "df_groupby[\"total_deaths_to_total_cases\"]*100"
      ]
    },
    {
      "cell_type": "code",
      "execution_count": null,
      "id": "16d4c464-451c-44a0-a87c-bc35c29de954",
      "metadata": {
        "id": "16d4c464-451c-44a0-a87c-bc35c29de954"
      },
      "outputs": [],
      "source": [
        "df_groupby"
      ]
    },
    {
      "cell_type": "markdown",
      "id": "b17ff469-6021-49b6-86f8-11999782dda5",
      "metadata": {
        "id": "b17ff469-6021-49b6-86f8-11999782dda5"
      },
      "source": [
        "DATA VISUALIZATION\n"
      ]
    },
    {
      "cell_type": "code",
      "execution_count": null,
      "id": "232517ec-5243-44f5-9ead-ab1fe14dd152",
      "metadata": {
        "id": "232517ec-5243-44f5-9ead-ab1fe14dd152"
      },
      "outputs": [],
      "source": [
        "sns.distplot(df[\"gdp_per_capita\"])"
      ]
    },
    {
      "cell_type": "code",
      "execution_count": null,
      "id": "6d7c2072-8f53-4db2-9012-bdf71168f047",
      "metadata": {
        "id": "6d7c2072-8f53-4db2-9012-bdf71168f047"
      },
      "outputs": [],
      "source": [
        "sns.jointplot(data=df_groupby,x=\"total_cases\",y=\"gdp_per_capita\",kind=\"scatter\")"
      ]
    },
    {
      "cell_type": "code",
      "execution_count": null,
      "id": "7793143d-8f92-43db-921d-5f2c77b5c576",
      "metadata": {
        "id": "7793143d-8f92-43db-921d-5f2c77b5c576"
      },
      "outputs": [],
      "source": [
        "sns.pairplot(data=df_groupby)"
      ]
    },
    {
      "cell_type": "code",
      "execution_count": null,
      "id": "b615252e-8ecf-4b20-8fd7-4f2b8cf1e16f",
      "metadata": {
        "id": "b615252e-8ecf-4b20-8fd7-4f2b8cf1e16f"
      },
      "outputs": [],
      "source": [
        "sns.catplot(data=df_groupby,x=\"continent\",y=\"total_cases\",kind=\"bar\")"
      ]
    },
    {
      "cell_type": "code",
      "execution_count": null,
      "id": "5a72726f-f3d7-4155-998d-7178ff466b6d",
      "metadata": {
        "id": "5a72726f-f3d7-4155-998d-7178ff466b6d"
      },
      "outputs": [],
      "source": [
        "df.to_csv(\"covid_Data.csv\")"
      ]
    }
  ],
  "metadata": {
    "kernelspec": {
      "display_name": "Python 3 (ipykernel)",
      "language": "python",
      "name": "python3"
    },
    "language_info": {
      "codemirror_mode": {
        "name": "ipython",
        "version": 3
      },
      "file_extension": ".py",
      "mimetype": "text/x-python",
      "name": "python",
      "nbconvert_exporter": "python",
      "pygments_lexer": "ipython3",
      "version": "3.12.4"
    },
    "colab": {
      "provenance": []
    }
  },
  "nbformat": 4,
  "nbformat_minor": 5
}